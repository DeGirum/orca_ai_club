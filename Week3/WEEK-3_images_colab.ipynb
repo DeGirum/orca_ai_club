{
 "cells": [
  {
   "cell_type": "markdown",
   "id": "be7463c2",
   "metadata": {},
   "source": [
    "# OpenCV and basics of images in Python"
   ]
  },
  {
   "cell_type": "markdown",
   "id": "5ea875e9-bcd6-4d2d-bd42-424973a537f9",
   "metadata": {},
   "source": [
    "## Preface: Images in Colab\n",
    "\n",
    "OpenCV's input and output functions do not work well in Google Colab. The following cell provides alternates that do. In the examples, treat `cv2_imread` and `cv2_imshow` as OpenCV library calls."
   ]
  },
  {
   "cell_type": "code",
   "execution_count": null,
   "id": "2b80c91c-274a-4f7a-aaa1-8f88ce9dd356",
   "metadata": {},
   "outputs": [],
   "source": [
    "from google.colab.patches import cv2_imshow\n",
    "\n",
    "def cv2_imread(url):\n",
    "    import urllib\n",
    "    import numpy\n",
    "    request = urllib.request.urlopen(url)\n",
    "    data = numpy.asarray(bytearray(request.read()), dtype=numpy.uint8)\n",
    "    return cv2.imdecode(data, cv2.IMREAD_COLOR)"
   ]
  },
  {
   "attachments": {},
   "cell_type": "markdown",
   "id": "fbcc37e3",
   "metadata": {},
   "source": [
    "## Example 1: OpenCV Basics\n",
    "\n",
    "This program illustrates the basic usage of the OpenCV library. It begins by importing the library, which allows us to call functions from it. The library is called `cv2`, and a function call prepended by `cv2.` is a library call.\r\n",
    "The program then loads the image from a file into a Numpy array. This loads the data from the harddrive into memory, and decodes the file format into a three-dimensional array. The dimensions are width and height, defined by the image size, and color depth. In most cases the color depth will be 3, one number for each of the red, green and blue color components. The program then gets the center of the image, using its width and height. Those are obtained from the `shape` member, which lists the sizes of the image's dimensions. For a typical image, `shape` will look like `[width, height, 3]`. The ‘//’ operator performs integer division, discarding the fractional part, to obtain the center coordinate, which the program uses to color the center pixel. Each pixel is a 3 element array, so the program overwrites the original with `[0, 0, 255]`, which is pure red in BGR format. The program finishes by saving the image and displaying it on the screen\r\n"
   ]
  },
  {
   "cell_type": "code",
   "execution_count": null,
   "id": "d98e0c67",
   "metadata": {},
   "outputs": [],
   "source": [
    "import cv2\n",
    "\n",
    "image = cv2_imread(\"https://raw.githubusercontent.com/DeGirum/orca_ai_club/main/images/seal.png\")\n",
    "\n",
    "center_y = image.shape[0] // 2\n",
    "center_x = image.shape[1] // 2\n",
    "\n",
    "image[center_y][center_x] = [0,0,255]\n",
    "\n",
    "cv2_imshow(image)"
   ]
  },
  {
   "cell_type": "markdown",
   "id": "1d33c945",
   "metadata": {},
   "source": [
    "## Example 2: OpenCV Basics, modified\n",
    "\n",
    "This program is just like the previous one, but instead of modifying one pixel, it modifies a number of them by using two `for` loops. Note that as one of the loops is inside the other, or \"nested\", it gets executed for every run , or \"iteration\", of the oputher loop."
   ]
  },
  {
   "cell_type": "code",
   "execution_count": null,
   "id": "dbfd5a04",
   "metadata": {},
   "outputs": [],
   "source": [
    "import cv2\n",
    "\n",
    "image = cv2_imread(\"https://raw.githubusercontent.com/DeGirum/orca_ai_club/main/images/seal.png\")\n",
    "\n",
    "center_y = image.shape[0] // 2\n",
    "center_x = image.shape[1] // 2\n",
    "\n",
    "for x in range(-5, 5):\n",
    "    for y in range(-5, 5):\n",
    "        image[center_y + y][center_x + x]=[0,0,255]\n",
    "\n",
    "cv2_imshow(image)"
   ]
  },
  {
   "cell_type": "markdown",
   "id": "04af94e6",
   "metadata": {},
   "source": [
    "## Example 3: Simple resizing with OpenCV\n",
    "\n",
    "This program uses an OpenCV library call to `resize` the source image to a given target size. However as the aspect ratio (width/height) of the source image and the target do not match, the image gets distorted."
   ]
  },
  {
   "cell_type": "code",
   "execution_count": null,
   "id": "98d7e5fc",
   "metadata": {},
   "outputs": [],
   "source": [
    "import cv2\n",
    "\n",
    "image = cv2_imread(\"https://raw.githubusercontent.com/DeGirum/orca_ai_club/main/images/seal.png\")\n",
    "\n",
    "image = cv2.resize(image, (256, 256))\n",
    "\n",
    "cv2_imshow(image)"
   ]
  },
  {
   "cell_type": "markdown",
   "id": "a00b7087",
   "metadata": {},
   "source": [
    "## Example 4: Cropping with OpenCV\n",
    "\n",
    "This program illustrates cropping. To avoid distortion, it discards the extra data to match the target aspect ratio, and then resizes the image.\r\n",
    "It begins by computing the new size of the source image. For cropping, we leave the smaller dimension as is, and use the target aspect ratio to compute a new value of the larger dimension. Here, the target is 256/256 = 1, so the program finds the minimum of the two dimensions. The program then calculates `top` and `left` as the top left corner of the smaller image. As our source image is too wide, `top` will just be zero, since we don't need to crop from the top.`lLef`t will be half the difference between the target width and the original width, as we want to crop off two equal strips from each side.\r\n",
    "To crop the image, the program uses slicing syntax. This uses two numbers for each coordinate, a maximum and a minimum, separated by a colon. All the data between the two coordinates will be retained, all the rest will be discarded. A colon with no numbers means “keep everything”. We use that to keep all 3 components of the pixel data."
   ]
  },
  {
   "cell_type": "code",
   "execution_count": null,
   "id": "64210e5a",
   "metadata": {},
   "outputs": [],
   "source": [
    "import cv2\n",
    "\n",
    "image = cv2_imread(\"https://raw.githubusercontent.com/DeGirum/orca_ai_club/main/images/seal.png\")\n",
    "\n",
    "height = image.shape[0]\n",
    "width = image.shape[1]\n",
    "\n",
    "dimension = min(height, width)\n",
    "top = int(round((height - dimension) / 2.0))\n",
    "left = int(round((width - dimension) / 2.0))\n",
    "\n",
    "image = image[top : top + dimension, left : left + dimension, :]\n",
    "\n",
    "image = cv2.resize(image, (256, 256))\n",
    "\n",
    "cv2_imshow(image)"
   ]
  },
  {
   "cell_type": "markdown",
   "id": "f4f4ce8c",
   "metadata": {},
   "source": [
    "## Example 5: Letterboxing with OpenCV\n",
    "\n",
    "This program illustrates letterboxing. To avoid distortion and preserve the entirety of our image, it pads the image to the target aspect ratio with black strips before resizing.\r\n",
    "Here, the program starts by importing the `numpy` library. In OpenCV, images are represented by `numpy` arrays. We have not needed to call numpy directly before, but, now we need create a new image via a `numpy` call. Before the program can create the new image, it computes its size, this time leaving the larger dimension of the original image as is. As the target aspect ratio is still 1, the program uses the maximum of the two dimesions to use as the size of the new image. The program then calculates `top` and `left` as the coordinates in the new image of top left corner of the smaller image. As our source image is too wide, `left` will just be zero, since the source image will span the entire width of the target. `top` will be half the difference between the target height and the original height, as we want to add two equal strips of black to each side.\r\n",
    "The program then creates a grid of size `dimension x dimension x 3`. The 3 is the three bytes of a pixel, and all being zero they represent black. The program proceeds by using the slicing syntax to copy our original image into a region of the new image, and resizes the result.  "
   ]
  },
  {
   "cell_type": "code",
   "execution_count": null,
   "id": "c49422ca",
   "metadata": {},
   "outputs": [],
   "source": [
    "import cv2\n",
    "import numpy\n",
    "\n",
    "image = cv2_imread(\"https://raw.githubusercontent.com/DeGirum/orca_ai_club/main/images/seal.png\")\n",
    "\n",
    "height = image.shape[0]\n",
    "width = image.shape[1]\n",
    "\n",
    "dimension = max(height, width)\n",
    "left = (dimension - width) // 2\n",
    "top = (dimension - height) // 2\n",
    "\n",
    "new_image = numpy.zeros((dimension, dimension, 3), image.dtype)\n",
    "new_image[top : top + height, left : left + width, :] = image\n",
    "\n",
    "new_image = cv2.resize(new_image, (256, 256))\n",
    "\n",
    "cv2_imshow(new_image)"
   ]
  }
 ],
 "metadata": {
  "kernelspec": {
   "display_name": "Python 3 (ipykernel)",
   "language": "python",
   "name": "python3"
  },
  "language_info": {
   "codemirror_mode": {
    "name": "ipython",
    "version": 3
   },
   "file_extension": ".py",
   "mimetype": "text/x-python",
   "name": "python",
   "nbconvert_exporter": "python",
   "pygments_lexer": "ipython3",
   "version": "3.11.5"
  }
 },
 "nbformat": 4,
 "nbformat_minor": 5
}
