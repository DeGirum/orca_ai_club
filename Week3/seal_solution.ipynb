{
 "cells": [
  {
   "attachments": {},
   "cell_type": "markdown",
   "id": "ee81169c-e3ce-44e4-b096-f559f2befc01",
   "metadata": {},
   "source": [
    "# Challenge Problem!\n",
    "Add a one-pixel thick frame around the sea lion in the sample image. The top left corner is at x = 55, y = 51,the box height is 378, and the width is 363.\n"
   ]
  },
  {
   "cell_type": "markdown",
   "id": "7154806a-2ba1-45e0-8f50-8a08e01c29d8",
   "metadata": {
    "tags": []
   },
   "source": [
    "#### Load the original\n",
    "Note: OpenCV's input and output functions do not work well in Google Colab. The following cell provides alternates that do. In the examples, treat `cv2_imread` and `cv2_imshow` as OpenCV library calls."
   ]
  },
  {
   "cell_type": "code",
   "execution_count": null,
   "id": "ad4f4a5e",
   "metadata": {
    "scrolled": true,
    "tags": []
   },
   "outputs": [],
   "source": [
    "import cv2\n",
    "\n",
    "from google.colab.patches import cv2_imshow\n",
    "\n",
    "def cv2_imread(url):\n",
    "    import urllib\n",
    "    import numpy\n",
    "    request = urllib.request.urlopen(url)\n",
    "    data = numpy.asarray(bytearray(request.read()), dtype=numpy.uint8)\n",
    "    return cv2.imdecode(data, cv2.IMREAD_COLOR)\n",
    "\n",
    "image = cv2_imread(\"https://raw.githubusercontent.com/DeGirum/orca_ai_club/main/images/seal.jpg\")"
   ]
  },
  {
   "cell_type": "markdown",
   "id": "d7142b50-c30e-4be0-8b42-f50e071571ec",
   "metadata": {
    "tags": []
   },
   "source": [
    "#### Box drawing function definition\n",
    "We have to draw four lines, two horizontal, and two vertical. For each of the vertical lines, we have to fill many pixels all with the same x, but different y. And for the horizontals, y stays the same and x changes. We've seen something similar when we drew a filled box in the center of the image."
   ]
  },
  {
   "cell_type": "code",
   "execution_count": null,
   "id": "27299231",
   "metadata": {
    "tags": []
   },
   "outputs": [],
   "source": [
    "def draw_box(input, top, left, height, width):\n",
    "    color = [0,192,255]\n",
    "    for x in range(left, left + width):\n",
    "        input[top][x] = color\n",
    "        input[top+height][x] = color\n",
    "\n",
    "    for y in range(top, top + height):\n",
    "        input[y][left] = color\n",
    "        input[y][left + width] = color\n",
    "        \n",
    "    return image"
   ]
  },
  {
   "cell_type": "markdown",
   "id": "47d9b972-4066-4ec5-b583-68c73ea14dbe",
   "metadata": {
    "tags": []
   },
   "source": [
    "#### Call our function\n",
    "First, we define the top corner, the height, and the width of the box. We call our function with those, and our source image."
   ]
  },
  {
   "cell_type": "code",
   "execution_count": null,
   "id": "a1edfe8a-47a9-4c5a-8cbc-4eee34d7abc4",
   "metadata": {
    "tags": []
   },
   "outputs": [],
   "source": [
    "y = 51\n",
    "x = 55\n",
    "h = 378\n",
    "w = 363\n",
    "result = draw_box(image, y, x, h, w)"
   ]
  },
  {
   "cell_type": "markdown",
   "id": "61017fb1-256e-4d45-9211-7d1b9d6cf61c",
   "metadata": {
    "tags": []
   },
   "source": [
    "#### Show the result\n",
    "We show the result."
   ]
  },
  {
   "cell_type": "code",
   "execution_count": null,
   "id": "bb207347",
   "metadata": {
    "tags": []
   },
   "outputs": [],
   "source": [
    "cv2_imshow(result)"
   ]
  }
 ],
 "metadata": {
  "kernelspec": {
   "display_name": "Python 3 (ipykernel)",
   "language": "python",
   "name": "python3"
  },
  "language_info": {
   "codemirror_mode": {
    "name": "ipython",
    "version": 3
   },
   "file_extension": ".py",
   "mimetype": "text/x-python",
   "name": "python",
   "nbconvert_exporter": "python",
   "pygments_lexer": "ipython3",
   "version": "3.11.5"
  }
 },
 "nbformat": 4,
 "nbformat_minor": 5
}
