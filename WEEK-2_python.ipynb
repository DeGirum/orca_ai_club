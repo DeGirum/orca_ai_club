{
 "cells": [
  {
   "cell_type": "markdown",
   "id": "be7463c2",
   "metadata": {},
   "source": [
    "# Intro to Python"
   ]
  },
  {
   "cell_type": "markdown",
   "id": "fbcc37e3",
   "metadata": {},
   "source": [
    "## Example 1: Hello World\n",
    "\n",
    "This program contains a string (`'Hello, world!'`) passed as an argument to the built-in function `print`. This prints 'Hello, world!'"
   ]
  },
  {
   "cell_type": "code",
   "execution_count": null,
   "id": "d98e0c67",
   "metadata": {},
   "outputs": [],
   "source": [
    "print('Hello, world!')"
   ]
  },
  {
   "cell_type": "markdown",
   "id": "1d33c945",
   "metadata": {},
   "source": [
    "## Example 2: For Loop\n",
    "\n",
    "This program loops over the sequence returned by `range(0, 3)` (equivalent to `[0, 1, 2]`), assigning one number at a time to the loop variable `i`. For each value in the sequence, the _body_ of the loop calls `print` on the expression `i + 1`."
   ]
  },
  {
   "cell_type": "code",
   "execution_count": null,
   "id": "dbfd5a04",
   "metadata": {},
   "outputs": [],
   "source": [
    "for i in range(0, 3):\n",
    "    print(i + 1)"
   ]
  },
  {
   "cell_type": "markdown",
   "id": "04af94e6",
   "metadata": {},
   "source": [
    "## Example 3: List Indexing and String Concatenation\n",
    "\n",
    "This program loops over the list `[2, 3, 0, 0, 1]`, and uses each number as an index to the list called `cipher`, appending the element of `cipher` at `index` to the string `secret_message` (which is initially empty). After the loop is done, `secret_message` is printed."
   ]
  },
  {
   "cell_type": "code",
   "execution_count": null,
   "id": "98d7e5fc",
   "metadata": {},
   "outputs": [],
   "source": [
    "secret_message = ''\n",
    "cipher = ['l', 'o', 'h', 'e']\n",
    "for index in [2, 3, 0, 0, 1]:\n",
    "    secret_message = secret_message + cipher[index]\n",
    "print(secret_message)"
   ]
  },
  {
   "cell_type": "markdown",
   "id": "a00b7087",
   "metadata": {},
   "source": [
    "## Example 4: Member Functions, Casting, and User Input\n",
    "\n",
    "This program calls the built-in function `input` twice, to get two strings from the user while the program is running. The first string is split to a list of strings at every occurrence of the string `','`, and each substring is cast to a floating-point number, and added to the second user-provided `offset` (also cast to float); this sum is appended to the initially empty list `offset_numbers`. Finally, `offset_numbers` is printed. "
   ]
  },
  {
   "cell_type": "code",
   "execution_count": null,
   "id": "64210e5a",
   "metadata": {},
   "outputs": [],
   "source": [
    "numbers = input('Enter comma-separated numbers: ')\n",
    "offset = input('Enter one more number: ')\n",
    "offset_numbers = []\n",
    "for number in numbers.split(','):\n",
    "    offset_numbers.append(float(number) + float(offset))\n",
    "print(offset_numbers)"
   ]
  },
  {
   "cell_type": "markdown",
   "id": "f4f4ce8c",
   "metadata": {},
   "source": [
    "## Example 5: Function Definition\n",
    "\n",
    "This program defines a function `fib` that given a number `n` should return the `n`th number in the [Fibonacci sequence](https://en.wikipedia.org/wiki/Fibonacci_sequence). There is an `assert` statement checking that `n` is non-negative, then three cases for n == 0, n == 1, and all other n.  "
   ]
  },
  {
   "cell_type": "code",
   "execution_count": null,
   "id": "c49422ca",
   "metadata": {},
   "outputs": [],
   "source": [
    "def fib(n):\n",
    "    assert n >= 0, 'Invalid input range for fib()'\n",
    "    if n == 0:\n",
    "        return 0\n",
    "    elif n == 1:\n",
    "        return 1\n",
    "    else:\n",
    "        return fib(n - 1) + fib(n - 2)\n",
    "print(fib(int(input('Fibonacci number: '))))"
   ]
  },
  {
   "cell_type": "markdown",
   "id": "08a7c13c",
   "metadata": {},
   "source": [
    "## Example 6: Unpacking, enumerate, zip, format strings\n",
    "\n",
    "The program below loops over the two lists in two different ways: first by using `enumerate` to wrap the elements of the list `fruits` with their index, and using it to access the corresponding element in `colors`, then by using `zip` to iterate over both lists simultaneously, returning each pair of corresponding elements at once. Inside the loops, print is called with a _format string_ (usually called f-string). This is a way to nicely incorporate variables or expressions into text."
   ]
  },
  {
   "cell_type": "code",
   "execution_count": null,
   "id": "087eae46",
   "metadata": {},
   "outputs": [],
   "source": [
    "fruits = ['apple', 'orange', 'banana']\n",
    "colors = ['red', 'orange', 'yellow']\n",
    "\n",
    "for index, fruit, in enumerate(fruits):\n",
    "    print(f'{fruit}s are {colors[index]}')\n",
    "\n",
    "for fruit, color in zip(fruits, colors):\n",
    "    if fruit == color:\n",
    "        print(f'{fruit}s are {color}!!!')"
   ]
  },
  {
   "cell_type": "markdown",
   "id": "d3c7ffdb",
   "metadata": {},
   "source": [
    "## Example 7: Dictionaries, More unpacking\n",
    "\n",
    "The program defines a dictionary `grades` that maps student names to percentage scores on an assignment. Next, it defines a list of lists `letter_grade_cutoffs` with each sub-list containing letter grade and its percentage cutoff in descending order.\n",
    "\n",
    "There is then a loop over each key,value `student,grade` pair in the dictionary (accessed through `grades.items()`), and for each there is an inner loop over each `letter,cutoff` pair in `letter_grade_cutoffs`, that continues until the grade is greater than the `cutoff` for some `letter`, at which point `letter` is printed, and the inner loop is exited immediately with the `break` statement."
   ]
  },
  {
   "cell_type": "code",
   "execution_count": null,
   "id": "bc9a9b1b",
   "metadata": {},
   "outputs": [],
   "source": [
    "grades = {\n",
    "    'Tom': 96,\n",
    "    'Carly': 100,\n",
    "    'Steve': 92\n",
    "}\n",
    "letter_grade_cutoffs = [['A+', 97], ['A', 93], ['A-', 90], ['F', 0]] \n",
    "for student, grade in grades.items():\n",
    "    for letter, cutoff in letter_grade_cutoffs:\n",
    "        if grade > cutoff:\n",
    "            print(student, letter)\n",
    "            break"
   ]
  }
 ],
 "metadata": {
  "kernelspec": {
   "display_name": "Python 3 (ipykernel)",
   "language": "python",
   "name": "python3"
  },
  "language_info": {
   "codemirror_mode": {
    "name": "ipython",
    "version": 3
   },
   "file_extension": ".py",
   "mimetype": "text/x-python",
   "name": "python",
   "nbconvert_exporter": "python",
   "pygments_lexer": "ipython3",
   "version": "3.9.18"
  }
 },
 "nbformat": 4,
 "nbformat_minor": 5
}
