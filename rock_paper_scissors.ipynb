{
 "cells": [
  {
   "cell_type": "markdown",
   "metadata": {},
   "source": [
    "Week 1 Asynchronous Homework: Rock, Paper, Scissors"
   ]
  },
  {
   "cell_type": "code",
   "execution_count": 1,
   "metadata": {},
   "outputs": [],
   "source": [
    "## What are the two components we need for a successful game run of Rock-Paper-Scissors?\n",
    "### 1. User input\n",
    "### 2. Computer input\n",
    "\n",
    "import random\n",
    "\n",
    "## What concept we use to store the possible choices for the computer and the user to choose from?\n",
    "list_of_choices = [\"rock\", \"paper\", \"scissors\"]"
   ]
  },
  {
   "cell_type": "code",
   "execution_count": 2,
   "metadata": {},
   "outputs": [],
   "source": [
    "def generate_computer_choice() -> str:\n",
    "    \"\"\"\n",
    "    This function generates a random choice from the list of choices\n",
    "    Returns:\n",
    "        str: a random choice from the list of choices\n",
    "    \"\"\"\n",
    "    ## TODO: randomly choose between 'rock', 'paper', or 'scissors'\n",
    "    ### Hint: random.choice() allows you to randomly select from a list of choices, here is a helpful link: https://docs.python.org/3/library/random.html#random.choice\n",
    "    global list_of_choices\n",
    "    computer_choice = random.choice(list_of_choices)\n",
    "    return computer_choice"
   ]
  },
  {
   "cell_type": "code",
   "execution_count": 3,
   "metadata": {},
   "outputs": [],
   "source": [
    "def get_user_choice() -> str:\n",
    "    \"\"\"\n",
    "    Gets the user's choice\n",
    "    Returns:\n",
    "        str: _description_\n",
    "    \"\"\"\n",
    "    global list_of_choices\n",
    "    ## Hint: input() allows you to prompt the user for a choice\n",
    "    user_choice = input(\"Please enter your choice: \")\n",
    "    ## Remember the use of assertions? Use an assertion to make sure that the user's choice is valid\n",
    "    ### Also, keep in mind that the user's choice should be case-insensitive, so keeping a consistent case is important\n",
    "    ### Hint: .lower() allows you to convert a string to lowercase\n",
    "    user_choice = user_choice.lower()\n",
    "    assert user_choice in list_of_choices, \"Invalid choice\"\n",
    "    return user_choice"
   ]
  },
  {
   "cell_type": "code",
   "execution_count": 4,
   "metadata": {},
   "outputs": [],
   "source": [
    "def get_game_result(computer_choice: str, user_choice: str) -> str:\n",
    "    \"\"\"Decides the result of the game\n",
    "\n",
    "    Args:\n",
    "        computer_choice (str): The computer's choice\n",
    "        user_choice (str): The user's choice\n",
    "\n",
    "    Returns:\n",
    "        str: The result of the game\n",
    "    \"\"\"\n",
    "    ## What are the different cases that we need to consider?\n",
    "    ### What if the user and computer choose the same thing?\n",
    "    if computer_choice == user_choice:\n",
    "        return \"Tie\"\n",
    "    ### Recall control flow statements: if, elif, else. How can we use these to determine the result of the game?\n",
    "    #### To refresh your memory regarding the rules of Rock-Paper-Scissors:\n",
    "    #### Rock beats scissors\n",
    "    #### Scissors beats paper\n",
    "    #### Paper beats rock\n",
    "    elif computer_choice == \"rock\":\n",
    "        if user_choice == \"paper\":\n",
    "            return \"User wins\"\n",
    "        else:\n",
    "            return \"Computer wins\"\n",
    "    elif computer_choice == \"paper\":\n",
    "        if user_choice == \"scissors\":\n",
    "            return \"User wins\"\n",
    "        else:\n",
    "            return \"Computer wins\"\n",
    "    elif computer_choice == \"scissors\":\n",
    "        if user_choice == \"rock\":\n",
    "            return \"User wins\"\n",
    "        else:\n",
    "            return \"Computer wins\"\n",
    "    else:\n",
    "        return \"Invalid choice\""
   ]
  },
  {
   "cell_type": "code",
   "execution_count": 5,
   "metadata": {},
   "outputs": [
    {
     "name": "stdout",
     "output_type": "stream",
     "text": [
      "Computer choice:  paper\n",
      "User choice:  rock\n",
      "Computer wins\n"
     ]
    }
   ],
   "source": [
    "def play_game():\n",
    "    computer_choice = generate_computer_choice()\n",
    "    user_choice = get_user_choice()\n",
    "    print(\"Computer choice: \", computer_choice)\n",
    "    print(\"User choice: \", user_choice)\n",
    "    print(get_game_result(computer_choice, user_choice))\n",
    "\n",
    "\n",
    "play_game()"
   ]
  }
 ],
 "metadata": {
  "kernelspec": {
   "display_name": "Python 3",
   "language": "python",
   "name": "python3"
  },
  "language_info": {
   "codemirror_mode": {
    "name": "ipython",
    "version": 3
   },
   "file_extension": ".py",
   "mimetype": "text/x-python",
   "name": "python",
   "nbconvert_exporter": "python",
   "pygments_lexer": "ipython3",
   "version": "3.9.6"
  }
 },
 "nbformat": 4,
 "nbformat_minor": 2
}
