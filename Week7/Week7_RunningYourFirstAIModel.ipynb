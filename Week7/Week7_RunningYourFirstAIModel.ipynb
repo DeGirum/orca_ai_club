{
 "cells": [
  {
   "cell_type": "code",
   "execution_count": null,
   "metadata": {
    "id": "NYdZKLRc9p_g"
   },
   "outputs": [],
   "source": [
    "!python3 -m pip install --quiet degirum\n",
    "from google.colab.patches import cv2_imshow"
   ]
  },
  {
   "cell_type": "code",
   "execution_count": null,
   "metadata": {
    "colab": {
     "base_uri": "https://localhost:8080/",
     "height": 898
    },
    "id": "Rr_DwqyD9-Of",
    "outputId": "0349c51b-15f4-4e41-c4a8-0dadc89c11f2"
   },
   "outputs": [],
   "source": [
    "import degirum as dg\n",
    "\n",
    "DEGIRUM_CLOUD_TOKEN = \"\"  # Replace with your DeLight Cloud token\n",
    "zoo = dg.connect(inference_host_address=dg.CLOUD,\n",
    "                 zoo_url=\"https://cs.degirum.com/degirum/public\",\n",
    "                 token=DEGIRUM_CLOUD_TOKEN\n",
    "                )\n",
    "model = zoo.load_model(\"yolo_v5s_person_det--512x512_quant_n2x_orca1_1\")\n",
    "res = model( \"https://raw.githubusercontent.com/DeGirum/PySDKExamples/main/images/ThreePersons.jpg\")\n",
    "cv2_imshow(res.image_overlay)"
   ]
  },
  {
   "cell_type": "code",
   "execution_count": null,
   "metadata": {
    "colab": {
     "base_uri": "https://localhost:8080/",
     "height": 571
    },
    "id": "E8w_cmJ5Y_Rz",
    "outputId": "752f9938-b3aa-462e-c632-e457b442f546"
   },
   "outputs": [],
   "source": [
    "model = zoo.load_model(\"yolo_v5s_pet_det--512x512_quant_n2x_cpu_1\")\n",
    "res = model(\"https://raw.githubusercontent.com/DeGirum/PySDKExamples/main/images/Cat.jpg\")\n",
    "cv2_imshow(res.image_overlay)"
   ]
  },
  {
   "cell_type": "code",
   "execution_count": null,
   "metadata": {
    "colab": {
     "base_uri": "https://localhost:8080/",
     "height": 707
    },
    "id": "Ptaogn2EZ-XS",
    "outputId": "cd3bef57-79b8-44a8-e2a7-f22738033d67"
   },
   "outputs": [],
   "source": [
    "model = zoo.load_model(\"yolo_v5n_car_det--512x512_quant_n2x_cpu_1\")\n",
    "res = model(\"https://raw.githubusercontent.com/DeGirum/PySDKExamples/main/images/Car.jpg\")\n",
    "cv2_imshow(res.image_overlay)"
   ]
  },
  {
   "cell_type": "code",
   "execution_count": null,
   "metadata": {
    "colab": {
     "base_uri": "https://localhost:8080/"
    },
    "id": "g5q8rnFnWE__",
    "outputId": "ab1647b3-8a84-4c2e-8646-ec63be1d889e"
   },
   "outputs": [],
   "source": [
    "# list all AI models available for inference\n",
    "zoo.list_models()"
   ]
  }
 ],
 "metadata": {
  "colab": {
   "provenance": []
  },
  "kernelspec": {
   "display_name": "Python 3",
   "name": "python3"
  },
  "language_info": {
   "name": "python"
  }
 },
 "nbformat": 4,
 "nbformat_minor": 0
}
